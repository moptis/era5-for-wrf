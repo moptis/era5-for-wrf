{
 "cells": [
  {
   "cell_type": "code",
   "execution_count": 22,
   "metadata": {},
   "outputs": [],
   "source": [
    "import boto3\n",
    "import pandas as pd\n",
    "from io import StringIO\n",
    "import os"
   ]
  },
  {
   "cell_type": "markdown",
   "metadata": {},
   "source": [
    "First let's grab some timeseries data using the boto3 package in Python"
   ]
  },
  {
   "cell_type": "code",
   "execution_count": 5,
   "metadata": {},
   "outputs": [
    {
     "name": "stdout",
     "output_type": "stream",
     "text": [
      "             gid   lat     lon\n",
      "0              1  90.0    0.00\n",
      "1              2  90.0    0.25\n",
      "2              3  90.0    0.50\n",
      "3              4  90.0    0.75\n",
      "4              5  90.0    1.00\n",
      "...          ...   ...     ...\n",
      "1038235  1038236 -90.0  358.75\n",
      "1038236  1038237 -90.0  359.00\n",
      "1038237  1038238 -90.0  359.25\n",
      "1038238  1038239 -90.0  359.50\n",
      "1038239  1038240 -90.0  359.75\n",
      "\n",
      "[1038240 rows x 3 columns]\n"
     ]
    }
   ],
   "source": [
    "# Get the global gid csv file\n",
    "# Initialize boto3 client\n",
    "s3_client = boto3.client('s3')\n",
    "\n",
    "# Define the S3 bucket and file path\n",
    "bucket_name = 'era5-for-wrf'\n",
    "file_key = 'era5_global_gids.csv'\n",
    "\n",
    "# Get the file object\n",
    "s3_object = s3_client.get_object(Bucket=bucket_name, Key=file_key)\n",
    "\n",
    "# Read the file content\n",
    "file_content = s3_object['Body'].read().decode('utf-8')\n",
    "\n",
    "# Use StringIO to convert the file content to a file-like object\n",
    "csv_string_io = StringIO(file_content)\n",
    "\n",
    "# Read the CSV file into a Pandas DataFrame\n",
    "df = pd.read_csv(csv_string_io, index_col = 0)\n",
    "\n",
    "# Display the DataFrame\n",
    "print(df)"
   ]
  },
  {
   "cell_type": "code",
   "execution_count": 13,
   "metadata": {},
   "outputs": [],
   "source": [
    "# Now let's define a function to return the GID for a given latitude and longitude\n",
    "def get_gid(lat, lon, gid_df):\n",
    "    # Round to the nearest 0.25 degrees\n",
    "    lat = round(lat*4)/4\n",
    "    lon = round(lon*4)/4\n",
    "\n",
    "    # Find entry in gid_df with those lat/lons\n",
    "    gid = gid_df[(gid_df['lat'] == lat) & (gid_df['lon'] == lon)]['gid'].values[0]\n",
    "\n",
    "    # Return result\n",
    "    return str(gid).zfill(7)"
   ]
  },
  {
   "cell_type": "code",
   "execution_count": 14,
   "metadata": {},
   "outputs": [
    {
     "name": "stdout",
     "output_type": "stream",
     "text": [
      "The GID for latitude 52.52 and longitude 13.405 is 0216055\n"
     ]
    }
   ],
   "source": [
    "# Let's test it out\n",
    "lat = 52.52\n",
    "lon = 13.405\n",
    "gid = get_gid(lat, lon, df)\n",
    "print(f\"The GID for latitude {lat} and longitude {lon} is {gid}\")"
   ]
  },
  {
   "cell_type": "code",
   "execution_count": 20,
   "metadata": {},
   "outputs": [],
   "source": [
    "# Now let's use the GID to download our data\n",
    "# Define the S3 bucket and file path\n",
    "bucket_name = 'era5-for-wrf'\n",
    "file_key = f'global_single_level/cells/{gid}/timeseries.csv'\n",
    "\n",
    "# Get the file object\n",
    "s3_object = s3_client.get_object(Bucket=bucket_name, Key=file_key)\n",
    "\n",
    "# Read the file content\n",
    "file_content = s3_object['Body'].read().decode('utf-8')\n",
    "\n",
    "# Use StringIO to convert the file content to a file-like object\n",
    "csv_string_io = StringIO(file_content)\n",
    "\n",
    "# Read the CSV file into a Pandas DataFrame\n",
    "era5_df = pd.read_csv(csv_string_io, index_col = 0, skiprows = 1, parse_dates = True)"
   ]
  },
  {
   "cell_type": "code",
   "execution_count": 21,
   "metadata": {},
   "outputs": [
    {
     "data": {
      "text/html": [
       "<div>\n",
       "<style scoped>\n",
       "    .dataframe tbody tr th:only-of-type {\n",
       "        vertical-align: middle;\n",
       "    }\n",
       "\n",
       "    .dataframe tbody tr th {\n",
       "        vertical-align: top;\n",
       "    }\n",
       "\n",
       "    .dataframe thead th {\n",
       "        text-align: right;\n",
       "    }\n",
       "</style>\n",
       "<table border=\"1\" class=\"dataframe\">\n",
       "  <thead>\n",
       "    <tr style=\"text-align: right;\">\n",
       "      <th></th>\n",
       "      <th>100-m wind speed (m/s)</th>\n",
       "      <th>100-m wind direction (degrees)</th>\n",
       "      <th>2-m temperature (K)</th>\n",
       "      <th>surface pressure (Pa)</th>\n",
       "    </tr>\n",
       "    <tr>\n",
       "      <th>datetime</th>\n",
       "      <th></th>\n",
       "      <th></th>\n",
       "      <th></th>\n",
       "      <th></th>\n",
       "    </tr>\n",
       "  </thead>\n",
       "  <tbody>\n",
       "    <tr>\n",
       "      <th>2000-01-01 00:00:00</th>\n",
       "      <td>4.09</td>\n",
       "      <td>190.88</td>\n",
       "      <td>272.30</td>\n",
       "      <td>101777.43</td>\n",
       "    </tr>\n",
       "    <tr>\n",
       "      <th>2000-01-01 01:00:00</th>\n",
       "      <td>4.05</td>\n",
       "      <td>193.58</td>\n",
       "      <td>272.50</td>\n",
       "      <td>101801.09</td>\n",
       "    </tr>\n",
       "    <tr>\n",
       "      <th>2000-01-01 02:00:00</th>\n",
       "      <td>4.19</td>\n",
       "      <td>197.67</td>\n",
       "      <td>272.38</td>\n",
       "      <td>101809.48</td>\n",
       "    </tr>\n",
       "    <tr>\n",
       "      <th>2000-01-01 03:00:00</th>\n",
       "      <td>4.25</td>\n",
       "      <td>199.57</td>\n",
       "      <td>272.37</td>\n",
       "      <td>101785.27</td>\n",
       "    </tr>\n",
       "    <tr>\n",
       "      <th>2000-01-01 04:00:00</th>\n",
       "      <td>4.30</td>\n",
       "      <td>200.83</td>\n",
       "      <td>272.70</td>\n",
       "      <td>101759.05</td>\n",
       "    </tr>\n",
       "    <tr>\n",
       "      <th>...</th>\n",
       "      <td>...</td>\n",
       "      <td>...</td>\n",
       "      <td>...</td>\n",
       "      <td>...</td>\n",
       "    </tr>\n",
       "    <tr>\n",
       "      <th>2024-03-31 19:00:00</th>\n",
       "      <td>3.93</td>\n",
       "      <td>298.71</td>\n",
       "      <td>285.64</td>\n",
       "      <td>99383.31</td>\n",
       "    </tr>\n",
       "    <tr>\n",
       "      <th>2024-03-31 20:00:00</th>\n",
       "      <td>4.07</td>\n",
       "      <td>316.15</td>\n",
       "      <td>284.35</td>\n",
       "      <td>99398.93</td>\n",
       "    </tr>\n",
       "    <tr>\n",
       "      <th>2024-03-31 21:00:00</th>\n",
       "      <td>4.12</td>\n",
       "      <td>340.19</td>\n",
       "      <td>283.41</td>\n",
       "      <td>99366.82</td>\n",
       "    </tr>\n",
       "    <tr>\n",
       "      <th>2024-03-31 22:00:00</th>\n",
       "      <td>3.69</td>\n",
       "      <td>7.58</td>\n",
       "      <td>283.07</td>\n",
       "      <td>99351.20</td>\n",
       "    </tr>\n",
       "    <tr>\n",
       "      <th>2024-03-31 23:00:00</th>\n",
       "      <td>3.80</td>\n",
       "      <td>31.14</td>\n",
       "      <td>282.33</td>\n",
       "      <td>99367.69</td>\n",
       "    </tr>\n",
       "  </tbody>\n",
       "</table>\n",
       "<p>213312 rows × 4 columns</p>\n",
       "</div>"
      ],
      "text/plain": [
       "                     100-m wind speed (m/s)  100-m wind direction (degrees)  \\\n",
       "datetime                                                                      \n",
       "2000-01-01 00:00:00                    4.09                          190.88   \n",
       "2000-01-01 01:00:00                    4.05                          193.58   \n",
       "2000-01-01 02:00:00                    4.19                          197.67   \n",
       "2000-01-01 03:00:00                    4.25                          199.57   \n",
       "2000-01-01 04:00:00                    4.30                          200.83   \n",
       "...                                     ...                             ...   \n",
       "2024-03-31 19:00:00                    3.93                          298.71   \n",
       "2024-03-31 20:00:00                    4.07                          316.15   \n",
       "2024-03-31 21:00:00                    4.12                          340.19   \n",
       "2024-03-31 22:00:00                    3.69                            7.58   \n",
       "2024-03-31 23:00:00                    3.80                           31.14   \n",
       "\n",
       "                     2-m temperature (K)  surface pressure (Pa)  \n",
       "datetime                                                         \n",
       "2000-01-01 00:00:00               272.30              101777.43  \n",
       "2000-01-01 01:00:00               272.50              101801.09  \n",
       "2000-01-01 02:00:00               272.38              101809.48  \n",
       "2000-01-01 03:00:00               272.37              101785.27  \n",
       "2000-01-01 04:00:00               272.70              101759.05  \n",
       "...                                  ...                    ...  \n",
       "2024-03-31 19:00:00               285.64               99383.31  \n",
       "2024-03-31 20:00:00               284.35               99398.93  \n",
       "2024-03-31 21:00:00               283.41               99366.82  \n",
       "2024-03-31 22:00:00               283.07               99351.20  \n",
       "2024-03-31 23:00:00               282.33               99367.69  \n",
       "\n",
       "[213312 rows x 4 columns]"
      ]
     },
     "execution_count": 21,
     "metadata": {},
     "output_type": "execute_result"
    }
   ],
   "source": [
    "# Let's look at the data\n",
    "era5_df"
   ]
  },
  {
   "cell_type": "markdown",
   "metadata": {},
   "source": [
    "Now if we wanted to avoid the boto3 route, we can simply download data using AWS CLI: "
   ]
  },
  {
   "cell_type": "code",
   "execution_count": 23,
   "metadata": {},
   "outputs": [
    {
     "data": {
      "text/plain": [
       "0"
      ]
     },
     "execution_count": 23,
     "metadata": {},
     "output_type": "execute_result"
    }
   ],
   "source": [
    "cmd = f\"aws s3 cp s3://era5-for-wrf/global_single_level/cells/{gid}/timeseries.csv .\"\n",
    "\n",
    "os.system(cmd)"
   ]
  }
 ],
 "metadata": {
  "kernelspec": {
   "display_name": "default",
   "language": "python",
   "name": "python3"
  },
  "language_info": {
   "codemirror_mode": {
    "name": "ipython",
    "version": 3
   },
   "file_extension": ".py",
   "mimetype": "text/x-python",
   "name": "python",
   "nbconvert_exporter": "python",
   "pygments_lexer": "ipython3",
   "version": "3.11.9"
  }
 },
 "nbformat": 4,
 "nbformat_minor": 2
}
